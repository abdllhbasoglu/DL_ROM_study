{
 "cells": [
  {
   "cell_type": "code",
   "execution_count": null,
   "id": "3bb2ee31-fa30-4727-a4ac-a3c56e6c6892",
   "metadata": {},
   "outputs": [],
   "source": [
    "import torch\n",
    "import numpy as np\n",
    "import os\n",
    "import copy\n",
    "torch.set_default_dtype(torch.float64)\n",
    "\n",
    "\n",
    "class Reconstructed_writer:\n",
    "    def __init__(self, dataset, flow_cond, flowcon, phat_file, uhat_file, vhat_file, num_cases, num_rows, num_cols, num_channels):\n",
    "        self.dataset = dataset\n",
    "        self.flow_cond = flow_cond\n",
    "        self.flowcon = flowcon\n",
    "        self.phat_file = phat_file\n",
    "        self.uhat_file = uhat_file\n",
    "        self.vhat_file = vhat_file\n",
    "        self.num_cases = num_cases\n",
    "        self.num_rows = num_rows\n",
    "        self.num_cols = num_cols\n",
    "        self.num_channels = num_channels\n",
    "\n",
    "\n",
    "    def write_dataset(self):\n",
    "        for i in range(self.num_cases):\n",
    "\n",
    "            indices = np.where(self.flow_cond == self.flowcon[i])[0]\n",
    "            # File name \"1_output_p.dat\", \"1_output_u.dat\", \"1_output_v.dat\" and go on\n",
    "            pressure_file = os.path.join(self.phat_file, f\"{indices[0]+1}_output_p.dat\")\n",
    "            u_velocity_file = os.path.join(self.uhat_file, f\"{indices[0]+1}_output_u.dat\")\n",
    "            v_velocity_file = os.path.join(self.vhat_file, f\"{indices[0]+1}_output_v.dat\")\n",
    "\n",
    "            #CPU\n",
    "            #pressure_data = self.dataset[i,0,:,:].detach().numpy().reshape(self.num_rows*self.num_cols, 1)\n",
    "            #u_velocity_data = self.dataset[i,1,:,:].detach().numpy().reshape(self.num_rows*self.num_cols, 1)\n",
    "            #v_velocity_data = self.dataset[i,2,:,:].detach().numpy().reshape(self.num_rows*self.num_cols, 1)\n",
    "\n",
    "            #CUDA\n",
    "            pressure_data = self.dataset[i,0,:,:].cpu().detach().numpy().reshape(self.num_rows*self.num_cols, 1)\n",
    "            u_velocity_data = self.dataset[i,1,:,:].cpu().detach().numpy().reshape(self.num_rows*self.num_cols, 1)\n",
    "            v_velocity_data = self.dataset[i,2,:,:].cpu().detach().numpy().reshape(self.num_rows*self.num_cols, 1)\n",
    "\n",
    "            np.savetxt(pressure_file, pressure_data, fmt='%.9e')\n",
    "            np.savetxt(u_velocity_file, u_velocity_data, fmt='%.9e')\n",
    "            np.savetxt(v_velocity_file, v_velocity_data, fmt='%.9e')\n"
   ]
  }
 ],
 "metadata": {
  "kernelspec": {
   "display_name": "Python 3 (ipykernel)",
   "language": "python",
   "name": "python3"
  },
  "language_info": {
   "codemirror_mode": {
    "name": "ipython",
    "version": 3
   },
   "file_extension": ".py",
   "mimetype": "text/x-python",
   "name": "python",
   "nbconvert_exporter": "python",
   "pygments_lexer": "ipython3",
   "version": "3.12.2"
  }
 },
 "nbformat": 4,
 "nbformat_minor": 5
}
